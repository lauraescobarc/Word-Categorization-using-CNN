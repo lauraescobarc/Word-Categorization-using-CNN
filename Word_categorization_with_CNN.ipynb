{
  "nbformat": 4,
  "nbformat_minor": 0,
  "metadata": {
    "colab": {
      "name": "Word categorization with CNN.ipynb",
      "provenance": [],
      "collapsed_sections": []
    },
    "kernelspec": {
      "name": "python3",
      "display_name": "Python 3"
    },
    "language_info": {
      "name": "python"
    },
    "accelerator": "GPU"
  },
  "cells": [
    {
      "cell_type": "markdown",
      "source": [
        "#EFFECTIVE USE OF WORD ORDER FOR TEXT CATEGORIZATION WITH CONVOLUTIONAL NEURAL NETWORKS\n",
        "\n",
        "\n",
        "---\n",
        "\n",
        "**Assignment done by: Laura Escobar Crespo "
      ],
      "metadata": {
        "id": "EhlXFrhdPhwP"
      }
    },
    {
      "cell_type": "markdown",
      "source": [
        "\n",
        "\n",
        "---\n",
        "\n",
        "\n",
        "\n",
        "---\n",
        "\n"
      ],
      "metadata": {
        "id": "ybarMxbeaqlU"
      }
    },
    {
      "cell_type": "markdown",
      "source": [
        "###ABSTRACT\n",
        "*Convolutional neural network (CNN) is a neural network that can make use of the internal structure of data such as the 2D structure of image data. This paper studies CNN on text categorization to exploit the 1D structure (namely, word order) of text data for accurate prediction. Instead of using low-dimensional word vectors as input as is often done, we directly apply CNN to high-dimensional text data, which leads to directly learning embedding of small text regions for use in classification.*\n",
        "\n",
        "This statement can be found in [here](https://paperswithcode.com/paper/effective-use-of-word-order-for-text-1).\n",
        "This [paper](https://github.com/jean-kunz/ml_research_papers/blob/master/word_order_text_classification_cnn/word_order_text_classification_cnn.ipynb) was the base of the assignment as well as [website of CNN in NLP](https://towardsdatascience.com/convolutional-neural-network-in-natural-language-processing-96d67f91275c) and [website of CNN for text processing](https://medium.com/voice-tech-podcast/text-classification-using-cnn-9ade8155dfb9).\n",
        "\n"
      ],
      "metadata": {
        "id": "itU-_KdTzqcp"
      }
    },
    {
      "cell_type": "markdown",
      "source": [
        "\n",
        "\n",
        "---\n",
        "\n",
        "\n",
        "\n",
        "---\n",
        "###CNN FOR TEXT CATEGORIZATION/CLASSIFICATION\n",
        "\n",
        "**Import libraries**\n",
        "\n",
        "The first step is to import all the neccesary libraries for the code development.\n",
        "\n",
        "The dataset used is imported from [keras datasets](https://keras.io/api/datasets/), which is exactly the imdb movie review.\n"
      ],
      "metadata": {
        "id": "5hTlQfXE2cLW"
      }
    },
    {
      "cell_type": "code",
      "source": [
        "from keras.datasets import imdb\n",
        "from keras.models import Sequential\n",
        "from keras.layers import Dense\n",
        "from keras.layers import Flatten\n",
        "from keras.layers.convolutional import Conv1D\n",
        "from keras.layers.convolutional import MaxPooling1D\n",
        "from keras.layers.embeddings import Embedding\n",
        "from keras.preprocessing import sequence"
      ],
      "metadata": {
        "id": "SJJEEM_vuFs9"
      },
      "execution_count": null,
      "outputs": []
    },
    {
      "cell_type": "markdown",
      "source": [
        "**Loading the data and spliting into train and test**\n",
        "\n",
        "At the same time that we load the dataset we divide into train and text set, specifying that only the top 5000 most frequent words are kept. It will return a list of sequences."
      ],
      "metadata": {
        "id": "kGR9OOoH3si_"
      }
    },
    {
      "cell_type": "code",
      "source": [
        "# Our dictionary will contain only of the top 5000 words appearing most frequently\n",
        "top_words = 5000\n",
        "# Now we split our data-set into training and test data\n",
        "(X_train, y_train), (X_test, y_test) = imdb.load_data(num_words=top_words)\n",
        "# Looking at the nature of training data\n",
        "print(X_train[0])\n",
        "print(y_train[0])\n",
        "print('Shape of training data: ')\n",
        "print(X_train.shape)\n",
        "print(y_train.shape)\n",
        "print('Shape of test data: ')\n",
        "print(X_test.shape)\n",
        "print(y_test.shape)"
      ],
      "metadata": {
        "colab": {
          "base_uri": "https://localhost:8080/"
        },
        "id": "Nw7FhfIKjuLR",
        "outputId": "7aa174f7-403d-4ea6-a291-87ac2241c6d7"
      },
      "execution_count": null,
      "outputs": [
        {
          "output_type": "stream",
          "name": "stdout",
          "text": [
            "[1, 14, 22, 16, 43, 530, 973, 1622, 1385, 65, 458, 4468, 66, 3941, 4, 173, 36, 256, 5, 25, 100, 43, 838, 112, 50, 670, 2, 9, 35, 480, 284, 5, 150, 4, 172, 112, 167, 2, 336, 385, 39, 4, 172, 4536, 1111, 17, 546, 38, 13, 447, 4, 192, 50, 16, 6, 147, 2025, 19, 14, 22, 4, 1920, 4613, 469, 4, 22, 71, 87, 12, 16, 43, 530, 38, 76, 15, 13, 1247, 4, 22, 17, 515, 17, 12, 16, 626, 18, 2, 5, 62, 386, 12, 8, 316, 8, 106, 5, 4, 2223, 2, 16, 480, 66, 3785, 33, 4, 130, 12, 16, 38, 619, 5, 25, 124, 51, 36, 135, 48, 25, 1415, 33, 6, 22, 12, 215, 28, 77, 52, 5, 14, 407, 16, 82, 2, 8, 4, 107, 117, 2, 15, 256, 4, 2, 7, 3766, 5, 723, 36, 71, 43, 530, 476, 26, 400, 317, 46, 7, 4, 2, 1029, 13, 104, 88, 4, 381, 15, 297, 98, 32, 2071, 56, 26, 141, 6, 194, 2, 18, 4, 226, 22, 21, 134, 476, 26, 480, 5, 144, 30, 2, 18, 51, 36, 28, 224, 92, 25, 104, 4, 226, 65, 16, 38, 1334, 88, 12, 16, 283, 5, 16, 4472, 113, 103, 32, 15, 16, 2, 19, 178, 32]\n",
            "1\n",
            "Shape of training data: \n",
            "(25000,)\n",
            "(25000,)\n",
            "Shape of test data: \n",
            "(25000,)\n",
            "(25000,)\n"
          ]
        }
      ]
    },
    {
      "cell_type": "markdown",
      "source": [
        "We can see that both datasets, train and test, consist in 25000 samples each. Every sample is a vector of text indexed within the limit of top words of 5000.\n",
        "\n",
        "The following step is to define a maximum sequence lenght so the kernel filter and stride can work well. \n"
      ],
      "metadata": {
        "id": "BQp6oBrV8M9D"
      }
    },
    {
      "cell_type": "code",
      "source": [
        "# Padding the data samples to a maximum review length in words, set as 450\n",
        "max_words = 450\n",
        "X_train = sequence.pad_sequences(X_train, maxlen=max_words)#keras provides a function to set a limit in sequences\n",
        "X_test = sequence.pad_sequences(X_test, maxlen=max_words)"
      ],
      "metadata": {
        "id": "8kwfdbXJud_L"
      },
      "execution_count": null,
      "outputs": []
    },
    {
      "cell_type": "markdown",
      "source": [
        "**Defining the CNN model**\n",
        "\n",
        "The model is defined as sequential, and it starts with an embedding layer of the top words (5000) into a 32 dimensional embedding as well as specifying the maximum sequence.\n",
        "\n",
        "The convolutional layer (1D) and the max pooling layer are the next. The resulting matrices are flatten into vectors and added dense layers.\n",
        "\n",
        "The last dense layer is having one as parameter because we are doing a binary classification and so we need only one output node in our vector."
      ],
      "metadata": {
        "id": "kLx-bWKh9XIB"
      }
    },
    {
      "cell_type": "code",
      "source": [
        "model = Sequential()  # initilaizing the Sequential nature for CNN model\n",
        "# Adding the embedding layer which will take in maximum of 450 words as input and provide a 32 dimensional output of those words which belong in the top_words dictionary\n",
        "model.add(Embedding(top_words, 32, input_length=max_words))\n",
        "model.add(Conv1D(32, 3, padding='same', activation='relu'))\n",
        "model.add(MaxPooling1D())\n",
        "model.add(Flatten())\n",
        "model.add(Dense(250, activation='relu'))\n",
        "model.add(Dense(1, activation='sigmoid'))"
      ],
      "metadata": {
        "id": "abWBVB6gjzwq"
      },
      "execution_count": null,
      "outputs": []
    },
    {
      "cell_type": "code",
      "source": [
        "model.compile(loss='binary_crossentropy', optimizer='adam', metrics=['accuracy'])\n",
        "model.summary()"
      ],
      "metadata": {
        "colab": {
          "base_uri": "https://localhost:8080/"
        },
        "id": "X_2TLQLBj3CF",
        "outputId": "59c272e5-8d88-41a0-f4ea-25f60cc1fed3"
      },
      "execution_count": null,
      "outputs": [
        {
          "output_type": "stream",
          "name": "stdout",
          "text": [
            "Model: \"sequential_9\"\n",
            "_________________________________________________________________\n",
            " Layer (type)                Output Shape              Param #   \n",
            "=================================================================\n",
            " embedding_9 (Embedding)     (None, 450, 32)           160000    \n",
            "                                                                 \n",
            " conv1d_9 (Conv1D)           (None, 450, 32)           3104      \n",
            "                                                                 \n",
            " max_pooling1d_9 (MaxPooling  (None, 225, 32)          0         \n",
            " 1D)                                                             \n",
            "                                                                 \n",
            " flatten_9 (Flatten)         (None, 7200)              0         \n",
            "                                                                 \n",
            " dense_18 (Dense)            (None, 250)               1800250   \n",
            "                                                                 \n",
            " dense_19 (Dense)            (None, 1)                 251       \n",
            "                                                                 \n",
            "=================================================================\n",
            "Total params: 1,963,605\n",
            "Trainable params: 1,963,605\n",
            "Non-trainable params: 0\n",
            "_________________________________________________________________\n"
          ]
        }
      ]
    },
    {
      "cell_type": "markdown",
      "source": [
        "**Training and testing**\n",
        "\n",
        "Now, we will fit our training data and define the the epochs(number of passes through dataset) and batch size(nunmber of samples processed before updating the model) for our learning model."
      ],
      "metadata": {
        "id": "laZFhguT-q5U"
      }
    },
    {
      "cell_type": "code",
      "source": [
        "history = model.fit(X_train, y_train,\n",
        "                     epochs=10,\n",
        "                     verbose=False,\n",
        "                     validation_data=(X_test, y_test),\n",
        "                     batch_size=32)\n",
        "\n",
        "loss_train, accuracy_train = model.evaluate(X_train, y_train, verbose=False)\n",
        "\n",
        "loss_test, accuracy_test = model.evaluate(X_test, y_test, verbose=False)"
      ],
      "metadata": {
        "id": "43l-9ZQGtmmO"
      },
      "execution_count": null,
      "outputs": []
    },
    {
      "cell_type": "markdown",
      "source": [
        "**Results**\n",
        "\n",
        "In the following cells it shown the results, loss and accuracy, for the training and test.\n",
        "\n"
      ],
      "metadata": {
        "id": "QWYD7ZoX_F-e"
      }
    },
    {
      "cell_type": "code",
      "source": [
        "print(\"Training Accuracy: {:.4f}\".format(accuracy_train))\n",
        "print(\"Test Accuracy: {:.4f}\".format(accuracy_test))\n",
        "print(\"Training Loss: {:.4f}\".format(loss_train))\n",
        "print(\"Test Loss: {:.4f}\".format(loss_test))"
      ],
      "metadata": {
        "colab": {
          "base_uri": "https://localhost:8080/"
        },
        "id": "vn9umUGRvcan",
        "outputId": "b7040d03-40a3-4dc0-cbc9-65a17fafe37f"
      },
      "execution_count": null,
      "outputs": [
        {
          "output_type": "stream",
          "name": "stdout",
          "text": [
            "Training Accuracy: 0.9975\n",
            "Test Accuracy: 0.8682\n",
            "Training Loss: 0.0077\n",
            "Test Loss: 0.8233\n"
          ]
        }
      ]
    },
    {
      "cell_type": "code",
      "source": [
        "import matplotlib.pyplot as plt\n",
        "\n",
        "acc = history.history['accuracy']\n",
        "val_acc = history.history['val_accuracy']\n",
        "loss = history.history['loss']\n",
        "val_loss = history.history['val_loss']\n",
        "\n",
        "epochs = range(len(acc))\n",
        "\n",
        "plt.plot(epochs, acc, 'b', color=\"pink\", label='Training acc')\n",
        "plt.plot(epochs, val_acc, 'b', label='Validation acc')\n",
        "plt.title('Training and validation accuracy')\n",
        "plt.legend()\n",
        "\n",
        "plt.figure()\n",
        "\n",
        "plt.plot(epochs, loss, 'b', color=\"pink\", label='Training loss')\n",
        "plt.plot(epochs, val_loss, 'b', label='Validation loss')\n",
        "plt.title('Training and validation loss')\n",
        "plt.legend()\n",
        "\n",
        "plt.show()"
      ],
      "metadata": {
        "colab": {
          "base_uri": "https://localhost:8080/",
          "height": 545
        },
        "id": "kOsT-eEfuyuF",
        "outputId": "3c0fe3dd-e773-481c-eab5-5c429a555acf"
      },
      "execution_count": null,
      "outputs": [
        {
          "output_type": "display_data",
          "data": {
            "text/plain": [
              "<Figure size 432x288 with 1 Axes>"
            ],
            "image/png": "[encoded data removed]"
          },
          "metadata": {
            "needs_background": "light"
          }
        },
        {
          "output_type": "display_data",
          "data": {
            "text/plain": [
              "<Figure size 432x288 with 1 Axes>"
            ],
            "image/png": "[encoded data removed]"
          },
          "metadata": {
            "needs_background": "light"
          }
        }
      ]
    },
    {
      "cell_type": "markdown",
      "source": [
        "Though we observe that both the accuracy for the training and test is quite good, the loss for the test is pretty high meaning that this model in specific is overfitted.\n",
        "\n",
        "A way to avoid this overfitting could be to add more layer to our model, training with a bigger dataset or cleanning the data in more detail."
      ],
      "metadata": {
        "id": "1crbHnDw0hgu"
      }
    }
  ]
}